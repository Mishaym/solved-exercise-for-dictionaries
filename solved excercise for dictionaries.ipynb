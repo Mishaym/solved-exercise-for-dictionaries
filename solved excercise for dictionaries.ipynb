{
 "cells": [
  {
   "cell_type": "code",
   "execution_count": 1,
   "id": "ff250c97-581b-4d2b-885d-5d3e98fdee31",
   "metadata": {},
   "outputs": [],
   "source": [
    "# MISHAYM IQBAL\n",
    "# FA24-BBD-051"
   ]
  },
  {
   "cell_type": "code",
   "execution_count": 43,
   "id": "01b538ed-34eb-495e-a4a1-05f8e95a56ca",
   "metadata": {},
   "outputs": [
    {
     "name": "stdout",
     "output_type": "stream",
     "text": [
      "name: Alice\n",
      "age: 19\n",
      "city: Newyork\n",
      "hobbies: ['sports', 'gardening', 'cooking']\n"
     ]
    }
   ],
   "source": [
    "# A Dictionary to store information about a person.\n",
    "person={'name':'Alice','age':19,'city':'Newyork','hobbies':['sports','gardening','cooking']}\n",
    "for key, value in person.items():\n",
    "    print(f\"{key}: {value}\")"
   ]
  },
  {
   "cell_type": "code",
   "execution_count": 45,
   "id": "9d7a8027-4a69-4d0a-b4ac-a409e1e5050e",
   "metadata": {},
   "outputs": [
    {
     "name": "stdout",
     "output_type": "stream",
     "text": [
      "{'I': 1, 'study': 1, 'in': 1, 'Comsats': 1}\n"
     ]
    }
   ],
   "source": [
    "# B Program to count frequency of words in a text.\n",
    "text=\"I study in Comsats.\"\n",
    "words_count={}\n",
    "for word in text.split():\n",
    "    words_count[word.strip(',.?')]=words_count.get(word,0)+1\n",
    "print(words_count)"
   ]
  },
  {
   "cell_type": "code",
   "execution_count": 47,
   "id": "92aa05de-323a-49b1-b6c4-802cfe9015bc",
   "metadata": {},
   "outputs": [
    {
     "name": "stdout",
     "output_type": "stream",
     "text": [
      "burger: 15\n",
      "cheese: 25\n",
      "pizza: 30\n",
      "milk not in inventory.\n",
      "burger: 15\n",
      "cheese: 5\n",
      "pizza: 30\n"
     ]
    }
   ],
   "source": [
    "# C Implement simple inventory system using dictionaries.\n",
    "inventory={}\n",
    "def add_item(item, quantity):\n",
    "    if item in inventory:\n",
    "        inventory[item]+=quantity\n",
    "    else:\n",
    "        inventory[item]=quantity\n",
    "def remove_item(item, quantity):\n",
    "    if item in inventory:\n",
    "        if inventory[item]>=quantity:\n",
    "            inventory[item]-=quantity\n",
    "        else:\n",
    "            print(f\"Insufficient quantity of {item}.\")\n",
    "    else:\n",
    "        print(f\"{item} not in inventory.\")\n",
    "def display_inventory():\n",
    "    for item, quantity in inventory.items():\n",
    "        print(f\"{item}: {quantity}\")\n",
    "add_item('burger',15)\n",
    "add_item('cheese',25)\n",
    "add_item('pizza',30)\n",
    "display_inventory()\n",
    "remove_item('cheese',20)\n",
    "remove_item('milk',13)\n",
    "display_inventory()"
   ]
  },
  {
   "cell_type": "code",
   "execution_count": 49,
   "id": "f97419f1-5b9a-430d-95af-550dc3237149",
   "metadata": {},
   "outputs": [
    {
     "name": "stdout",
     "output_type": "stream",
     "text": [
      "Most popular category: food\n"
     ]
    }
   ],
   "source": [
    "# D Analyze dataset of customer orders to find most popular product category.\n",
    "customer_orders=[\n",
    "    {'product':'fruits','category':'food'},\n",
    "    {'product':'pizza','category':'food'},\n",
    "    {'product':'shirt','category':'clothes'},\n",
    "    {'product':'trousers','category':'clothes'},\n",
    "    {'product':'vegatables','category':'food'}\n",
    "]\n",
    "def most_popular_category(customer_orders):\n",
    "    category_count={}\n",
    "    for order in customer_orders:\n",
    "        category=order['category']\n",
    "        if category in category_count:\n",
    "            category_count[category]+=1\n",
    "        else:\n",
    "            category_count[category]=1\n",
    "    popular_category=max(category_count, key=category_count.get)\n",
    "    return popular_category\n",
    "print('Most popular category:', most_popular_category(customer_orders))"
   ]
  },
  {
   "cell_type": "code",
   "execution_count": 51,
   "id": "9d62e0a6-8b66-488b-8629-68a115b01320",
   "metadata": {},
   "outputs": [
    {
     "name": "stdout",
     "output_type": "stream",
     "text": [
      "Average grade of Zainab is 75.00\n",
      "Average grade of Alice is 80.67\n",
      "Average grade of Larry is 89.00\n"
     ]
    }
   ],
   "source": [
    "# E Create dictionary to store student grades and calculate average grade.\n",
    "students_grades={\n",
    "    'Zainab':[60,80,85],\n",
    "    'Alice':[66,86,90],\n",
    "    'Larry':[78,91,98]\n",
    "}\n",
    "for student, grades in students_grades.items():\n",
    "    average_grade=sum(grades)/len(grades)\n",
    "    print(f\"Average grade of {student} is {average_grade:.2f}\")"
   ]
  },
  {
   "cell_type": "code",
   "execution_count": 55,
   "id": "5b697091-d775-46ec-876e-e91c2977f264",
   "metadata": {},
   "outputs": [
    {
     "name": "stdout",
     "output_type": "stream",
     "text": [
      "Inventory: {'Apricot': {'quantity': 70, 'price': 2}, 'Biscuits': {'quantity': 10, 'price': 1}, 'Egg': {'quantity': 3, 'price': 1.5}}\n",
      "Total Inventory Value: 154.5\n",
      "Low Stock Items: {'Egg': {'quantity': 3, 'price': 1.5}}\n"
     ]
    }
   ],
   "source": [
    "# F Inventory Management\n",
    "inventory = {}\n",
    "\n",
    "inventory['Apricot'] = {'quantity': 50, 'price': 2}\n",
    "inventory['Biscuits'] = {'quantity': 15, 'price': 1}\n",
    "inventory['Egg'] = {'quantity': 3, 'price': 1.5}\n",
    "\n",
    "inventory['Apricot']['quantity'] += 20  # Adding 20 more apples\n",
    "inventory['Biscuits']['quantity'] -= 5  # Selling 5 bananas\n",
    "\n",
    "total_value = 0\n",
    "for product in inventory:\n",
    "    total_value += inventory[product]['quantity'] * inventory[product]['price']\n",
    "\n",
    "low_stock_items = {}\n",
    "threshold = 5\n",
    "for product in inventory:\n",
    "    if inventory[product]['quantity'] < threshold:\n",
    "        low_stock_items[product] = inventory[product]\n",
    "\n",
    "print(\"Inventory:\", inventory)\n",
    "print(\"Total Inventory Value:\", total_value)\n",
    "print(\"Low Stock Items:\", low_stock_items)"
   ]
  },
  {
   "cell_type": "code",
   "execution_count": 59,
   "id": "b628153d-09a4-4369-b98e-4a1d676264a7",
   "metadata": {},
   "outputs": [
    {
     "name": "stdout",
     "output_type": "stream",
     "text": [
      "Students: {'Ali': {'Math': 85, 'Science': 98, 'English': 75}, 'Bareerah': {'Math': 75, 'Science': 85, 'English': 88}, 'maria': {'Math': 59, 'Science': 78, 'English': 95}}\n",
      "Average Grades: {'Ali': 86.0, 'Bareerah': 82.66666666666667, 'maria': 77.33333333333333}\n",
      "Highest grade in Math: 85\n",
      "Lowest grade in Math: 59\n",
      "Students sorted by average grades:\n"
     ]
    }
   ],
   "source": [
    "# G students gradebook\n",
    "students = {\n",
    "    'Ali': {'Math': 85, 'Science': 98, 'English': 75},\n",
    "    'Bareerah': {'Math': 75, 'Science': 85, 'English': 88},\n",
    "    'maria': {'Math': 59, 'Science': 78, 'English': 95},\n",
    "}\n",
    "\n",
    "\n",
    "average_grades = {}\n",
    "for student in students:\n",
    "    grades = students[student].values()\n",
    "    average_grades[student] = sum(grades) / len(grades)\n",
    "\n",
    "subject = 'Math'\n",
    "highest_grade = max(students[student][subject] for student in students)\n",
    "lowest_grade = min(students[student][subject] for student in students)\n",
    "\n",
    "\n",
    "print(\"Students:\", students)\n",
    "print(\"Average Grades:\", average_grades)\n",
    "print(f\"Highest grade in {subject}:\", highest_grade)\n",
    "print(f\"Lowest grade in {subject}:\", lowest_grade)\n",
    "print(\"Students sorted by average grades:\")"
   ]
  },
  {
   "cell_type": "code",
   "execution_count": null,
   "id": "7c0719d4-9f6d-4e80-8d76-b1a24b8466d4",
   "metadata": {},
   "outputs": [],
   "source": [
    "#H simple ecommerce store\n",
    "Students: {'Alice': {'Math': 85, 'Science': 95, 'English': 75}, 'Bob': {'Math': 75, 'Science': 85, 'English': 85}, 'Charlie': {'Math': 95, 'Science': 95, 'English': 85}}\n",
    "Average Grades: {'Alice': 85.0, 'Bob': 81.66666666666667, 'Charlie': 91.66666666666667}\n",
    "Highest grade in Math: 95\n",
    "Lowest grade in Math: 75\n",
    "Students sorted by average grades: [('Charlie', 91.66666666666667), ('Alice', 85.0), ('Bob', 81.66666666666667)]\n",
    "ecommerce storeb\n",
    "products = {\n",
    "    'Laptop': {'price': 1000, 'quantity': 10},\n",
    "    'Headphones': {'price': 200, 'quantity': 50},\n",
    "    'Mouse': {'price': 50, 'quantity': 100},\n",
    "}\n",
    "\n",
    "cart = {}\n",
    "\n",
    "cart['Laptop'] = {'price': products['Laptop']['price'], 'quantity': 1}\n",
    "cart['Headphones'] = {'price': products['Headphones']['price'], 'quantity': 2}\n",
    "\n",
    "del cart['Laptop']\n",
    "\n",
    "total_cost = 0\n",
    "for item in cart:\n",
    "    total_cost += cart[item]['price'] * cart[item]['quantity']\n",
    "\n",
    "discount = 0.1  # 10% discount\n",
    "tax = 0.15  # 15% tax\n",
    "total_cost -= total_cost * discount\n",
    "total_cost += total_cost * tax\n",
    "\n",
    "print(\"Products:\", products)\n",
    "print(\"Cart:\", cart)\n",
    "print(\"Total Cost:\", total_cost)"
   ]
  }
 ],
 "metadata": {
  "kernelspec": {
   "display_name": "Python 3 (ipykernel)",
   "language": "python",
   "name": "python3"
  },
  "language_info": {
   "codemirror_mode": {
    "name": "ipython",
    "version": 3
   },
   "file_extension": ".py",
   "mimetype": "text/x-python",
   "name": "python",
   "nbconvert_exporter": "python",
   "pygments_lexer": "ipython3",
   "version": "3.12.7"
  }
 },
 "nbformat": 4,
 "nbformat_minor": 5
}
